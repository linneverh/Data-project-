{
  "cells": [
    {
      "cell_type": "markdown",
      "metadata": {
        "id": "view-in-github",
        "colab_type": "text"
      },
      "source": [
        "<a href=\"https://colab.research.google.com/github/linneverh/Data-project-/blob/main/gridsearch_similarity.ipynb\" target=\"_parent\"><img src=\"https://colab.research.google.com/assets/colab-badge.svg\" alt=\"Open In Colab\"/></a>"
      ]
    },
    {
      "cell_type": "code",
      "execution_count": null,
      "metadata": {
        "id": "OHM0r5z2CeJU",
        "outputId": "c7e06fcc-e251-48ae-dd58-57338413e5cd"
      },
      "outputs": [
        {
          "name": "stderr",
          "output_type": "stream",
          "text": [
            "/Users/amelie/Documents/GitHub/ML/.venv/lib/python3.9/site-packages/urllib3/__init__.py:35: NotOpenSSLWarning: urllib3 v2 only supports OpenSSL 1.1.1+, currently the 'ssl' module is compiled with 'LibreSSL 2.8.3'. See: https://github.com/urllib3/urllib3/issues/3020\n",
            "  warnings.warn(\n"
          ]
        }
      ],
      "source": [
        "#Library\n",
        "# !pip install sentence-transformers\n",
        "# !pip install joblib\n",
        "# !pip install collections\n",
        "from collections import defaultdict\n",
        "from joblib import Parallel, delayed\n",
        "import numpy as np\n",
        "import pandas as pd\n",
        "import sklearn\n",
        "from sklearn.metrics.pairwise import cosine_similarity\n",
        "import matplotlib.pyplot as plt\n",
        "import seaborn as sns\n",
        "import random\n",
        "from sklearn.preprocessing import normalize\n",
        "from sklearn.feature_extraction.text import TfidfVectorizer\n",
        "from sentence_transformers import SentenceTransformer\n",
        "from sklearn.model_selection import train_test_split\n",
        "import os\n"
      ]
    },
    {
      "cell_type": "markdown",
      "metadata": {
        "collapsed": true,
        "id": "U26TtWpHCeJW"
      },
      "source": [
        "# Recommender Systems\n",
        "| Recommender Type     | Similarity Between | Based On           | Example Statement                                      |\n",
        "|----------------------|--------------------|--------------------|--------------------------------------------------------|\n",
        "| CF – Item-Item       | Items              | User behavior      | “You liked A, others who liked A also liked B”         |\n",
        "| CF – User-User       | Users              | User behavior      | “People like you liked B, so you might too”            |\n",
        "| Content-Based        | Items              | Item text/content  | “These books are similar in description/topic”         |\n",
        "| Hybrid               | Items              | Content + Behavior | “You liked A; B is similar and liked by others too”    |\n"
      ]
    },
    {
      "cell_type": "markdown",
      "metadata": {
        "collapsed": true,
        "id": "IMEUUjU8CeJY"
      },
      "source": [
        "## Task 1: Exploring\n",
        "\n"
      ]
    },
    {
      "cell_type": "markdown",
      "metadata": {
        "id": "Ax3DaxAgO5oh"
      },
      "source": [
        "#### Step 1:Get the data"
      ]
    },
    {
      "cell_type": "code",
      "execution_count": null,
      "metadata": {
        "colab": {
          "base_uri": "https://localhost:8080/",
          "height": 1000
        },
        "collapsed": true,
        "id": "YodjQAEPmdcn",
        "outputId": "1e8d07f1-4af9-4786-e41a-963258c1273b"
      },
      "outputs": [
        {
          "data": {
            "text/html": [
              "<div>\n",
              "<style scoped>\n",
              "    .dataframe tbody tr th:only-of-type {\n",
              "        vertical-align: middle;\n",
              "    }\n",
              "\n",
              "    .dataframe tbody tr th {\n",
              "        vertical-align: top;\n",
              "    }\n",
              "\n",
              "    .dataframe thead th {\n",
              "        text-align: right;\n",
              "    }\n",
              "</style>\n",
              "<table border=\"1\" class=\"dataframe\">\n",
              "  <thead>\n",
              "    <tr style=\"text-align: right;\">\n",
              "      <th></th>\n",
              "      <th>user_id</th>\n",
              "      <th>book_id</th>\n",
              "      <th>timestamp</th>\n",
              "    </tr>\n",
              "  </thead>\n",
              "  <tbody>\n",
              "    <tr>\n",
              "      <th>0</th>\n",
              "      <td>4456</td>\n",
              "      <td>8581</td>\n",
              "      <td>1.687541e+09</td>\n",
              "    </tr>\n",
              "    <tr>\n",
              "      <th>1</th>\n",
              "      <td>142</td>\n",
              "      <td>1964</td>\n",
              "      <td>1.679585e+09</td>\n",
              "    </tr>\n",
              "    <tr>\n",
              "      <th>2</th>\n",
              "      <td>362</td>\n",
              "      <td>3705</td>\n",
              "      <td>1.706872e+09</td>\n",
              "    </tr>\n",
              "    <tr>\n",
              "      <th>3</th>\n",
              "      <td>1809</td>\n",
              "      <td>11317</td>\n",
              "      <td>1.673533e+09</td>\n",
              "    </tr>\n",
              "    <tr>\n",
              "      <th>4</th>\n",
              "      <td>4384</td>\n",
              "      <td>1323</td>\n",
              "      <td>1.681402e+09</td>\n",
              "    </tr>\n",
              "  </tbody>\n",
              "</table>\n",
              "</div>"
            ],
            "text/plain": [
              "   user_id  book_id     timestamp\n",
              "0     4456     8581  1.687541e+09\n",
              "1      142     1964  1.679585e+09\n",
              "2      362     3705  1.706872e+09\n",
              "3     1809    11317  1.673533e+09\n",
              "4     4384     1323  1.681402e+09"
            ]
          },
          "metadata": {},
          "output_type": "display_data"
        },
        {
          "data": {
            "text/html": [
              "<div>\n",
              "<style scoped>\n",
              "    .dataframe tbody tr th:only-of-type {\n",
              "        vertical-align: middle;\n",
              "    }\n",
              "\n",
              "    .dataframe tbody tr th {\n",
              "        vertical-align: top;\n",
              "    }\n",
              "\n",
              "    .dataframe thead th {\n",
              "        text-align: right;\n",
              "    }\n",
              "</style>\n",
              "<table border=\"1\" class=\"dataframe\">\n",
              "  <thead>\n",
              "    <tr style=\"text-align: right;\">\n",
              "      <th></th>\n",
              "      <th>Unnamed: 0</th>\n",
              "      <th>CanonicalLink</th>\n",
              "      <th>Description</th>\n",
              "      <th>ISBN</th>\n",
              "      <th>ImageLink</th>\n",
              "      <th>Language</th>\n",
              "      <th>PublishedDate</th>\n",
              "      <th>Publisher</th>\n",
              "      <th>Subjects</th>\n",
              "      <th>Title</th>\n",
              "      <th>...</th>\n",
              "      <th>book_id</th>\n",
              "      <th>title_clean</th>\n",
              "      <th>title_description</th>\n",
              "      <th>date_title_description</th>\n",
              "      <th>author_title_description</th>\n",
              "      <th>author_date_title_description</th>\n",
              "      <th>author_date_title</th>\n",
              "      <th>author_date_title_subjects</th>\n",
              "      <th>author_title_subjects</th>\n",
              "      <th>embedding</th>\n",
              "    </tr>\n",
              "  </thead>\n",
              "  <tbody>\n",
              "    <tr>\n",
              "      <th>0</th>\n",
              "      <td>723</td>\n",
              "      <td>https://books.google.com/books/about/Classific...</td>\n",
              "      <td>NaN</td>\n",
              "      <td>9782871303336</td>\n",
              "      <td>https://images.isbndb.com/covers/2000472348298...</td>\n",
              "      <td>fr</td>\n",
              "      <td>2012.0</td>\n",
              "      <td>Ed du CEFAL</td>\n",
              "      <td>Classification décimale universelle; Indexatio...</td>\n",
              "      <td>Classification décimale universelle : édition ...</td>\n",
              "      <td>...</td>\n",
              "      <td>0</td>\n",
              "      <td>Classification décimale universelle : édition ...</td>\n",
              "      <td>Classification décimale universelle : édition ...</td>\n",
              "      <td>2012 Classification décimale universelle : édi...</td>\n",
              "      <td>UDC Consortium (The Hague) Classification déci...</td>\n",
              "      <td>UDC Consortium (The Hague) 2012 Classification...</td>\n",
              "      <td>UDC Consortium (The Hague) 2012 Classification...</td>\n",
              "      <td>UDC Consortium (The Hague) 2012 Classification...</td>\n",
              "      <td>UDC Consortium (The Hague)  Classification déc...</td>\n",
              "      <td>[-0.004826885, -0.0587869, -0.06438997, -0.007...</td>\n",
              "    </tr>\n",
              "    <tr>\n",
              "      <th>1</th>\n",
              "      <td>724</td>\n",
              "      <td>https://books.google.com/books/about/Les_inter...</td>\n",
              "      <td>C'est dans l'interaction en classe que s'actua...</td>\n",
              "      <td>9782278058327</td>\n",
              "      <td>https://images.isbndb.com/covers/2384333482926...</td>\n",
              "      <td>fr</td>\n",
              "      <td>2011.0</td>\n",
              "      <td>Didier</td>\n",
              "      <td>didactique--langue étrangère - enseignement; d...</td>\n",
              "      <td>Les interactions dans l'enseignement des langu...</td>\n",
              "      <td>...</td>\n",
              "      <td>1</td>\n",
              "      <td>Les interactions dans l'enseignement des langu...</td>\n",
              "      <td>Les interactions dans l'enseignement des langu...</td>\n",
              "      <td>2011 Les interactions dans l'enseignement des ...</td>\n",
              "      <td>Cicurel, Francine, Les interactions dans l'ens...</td>\n",
              "      <td>Cicurel, Francine, 2011 Les interactions dans ...</td>\n",
              "      <td>Cicurel, Francine, 2011 Les interactions dans ...</td>\n",
              "      <td>Cicurel, Francine, 2011 Les interactions dans ...</td>\n",
              "      <td>Cicurel, Francine,  Les interactions dans l'en...</td>\n",
              "      <td>[0.0041115503, -0.012976925, 0.0044452655, 0.0...</td>\n",
              "    </tr>\n",
              "    <tr>\n",
              "      <th>2</th>\n",
              "      <td>725</td>\n",
              "      <td>https://books.google.com/books/about/Histoire_...</td>\n",
              "      <td>Depuis la parution en 1918 de l'ouvrage fondat...</td>\n",
              "      <td>2343190194</td>\n",
              "      <td>http://books.google.com/books/content?id=Q2PMD...</td>\n",
              "      <td>fr</td>\n",
              "      <td>2020.0</td>\n",
              "      <td>L'Harmattan</td>\n",
              "      <td>Histoires de vie en sociologie; Sciences socia...</td>\n",
              "      <td>Histoire de vie et recherche biographique : pe...</td>\n",
              "      <td>...</td>\n",
              "      <td>2</td>\n",
              "      <td>Histoire de vie et recherche biographique : pe...</td>\n",
              "      <td>Histoire de vie et recherche biographique : pe...</td>\n",
              "      <td>2020 Histoire de vie et recherche biographique...</td>\n",
              "      <td>Aneta Slowik, Hervé Breton, Gaston Pineau Hist...</td>\n",
              "      <td>Aneta Slowik, Hervé Breton, Gaston Pineau 2020...</td>\n",
              "      <td>Aneta Slowik, Hervé Breton, Gaston Pineau 2020...</td>\n",
              "      <td>Aneta Slowik, Hervé Breton, Gaston Pineau 2020...</td>\n",
              "      <td>Aneta Slowik, Hervé Breton, Gaston Pineau  His...</td>\n",
              "      <td>[0.027354596, -0.025706276, -0.051459163, 0.00...</td>\n",
              "    </tr>\n",
              "    <tr>\n",
              "      <th>3</th>\n",
              "      <td>726</td>\n",
              "      <td>https://books.google.com/books/about/Ce_livre_...</td>\n",
              "      <td>Juin 1940. Les Allemands entrent dans Paris.Pa...</td>\n",
              "      <td>9782365350020</td>\n",
              "      <td>https://images.isbndb.com/covers/1994518348298...</td>\n",
              "      <td>fr</td>\n",
              "      <td>2012.0</td>\n",
              "      <td>Vraoum!</td>\n",
              "      <td>Moyen-Orient; Bandes dessinées autobiographiqu...</td>\n",
              "      <td>Ce livre devrait me permettre de résoudre le c...</td>\n",
              "      <td>...</td>\n",
              "      <td>3</td>\n",
              "      <td>Ce livre devrait me permettre de résoudre le c...</td>\n",
              "      <td>Ce livre devrait me permettre de résoudre le c...</td>\n",
              "      <td>2012 Ce livre devrait me permettre de résoudre...</td>\n",
              "      <td>Mazas, Sylvain, Ce livre devrait me permettre ...</td>\n",
              "      <td>Mazas, Sylvain, 2012 Ce livre devrait me perme...</td>\n",
              "      <td>Mazas, Sylvain, 2012 Ce livre devrait me perme...</td>\n",
              "      <td>Mazas, Sylvain, 2012 Ce livre devrait me perme...</td>\n",
              "      <td>Mazas, Sylvain,  Ce livre devrait me permettre...</td>\n",
              "      <td>[0.036929574, -0.0399203, -0.033997424, -0.006...</td>\n",
              "    </tr>\n",
              "    <tr>\n",
              "      <th>4</th>\n",
              "      <td>727</td>\n",
              "      <td>https://books.google.com/books/about/Le_grand_...</td>\n",
              "      <td>Trois histoires d'amour, un lanceur d'alerte, ...</td>\n",
              "      <td>9782702180815</td>\n",
              "      <td>http://books.google.com/books/content?id=f5u3z...</td>\n",
              "      <td>fr</td>\n",
              "      <td>1984.0</td>\n",
              "      <td>Calmann-Lévy</td>\n",
              "      <td>France--1945-1975; Roman historique; Roman fra...</td>\n",
              "      <td>Les années glorieuses : roman /</td>\n",
              "      <td>...</td>\n",
              "      <td>4</td>\n",
              "      <td>Les années glorieuses : roman</td>\n",
              "      <td>Les années glorieuses : roman Trois histoires ...</td>\n",
              "      <td>1984 Les années glorieuses : roman Trois histo...</td>\n",
              "      <td>Lemaitre, Pierre, Les années glorieuses : roma...</td>\n",
              "      <td>Lemaitre, Pierre, 1984 Les années glorieuses :...</td>\n",
              "      <td>Lemaitre, Pierre, 1984 Les années glorieuses :...</td>\n",
              "      <td>Lemaitre, Pierre, 1984 Les années glorieuses :...</td>\n",
              "      <td>Lemaitre, Pierre,  Les années glorieuses : rom...</td>\n",
              "      <td>[0.05324783, -0.026807835, -0.009055429, 0.005...</td>\n",
              "    </tr>\n",
              "  </tbody>\n",
              "</table>\n",
              "<p>5 rows × 22 columns</p>\n",
              "</div>"
            ],
            "text/plain": [
              "   Unnamed: 0                                      CanonicalLink  \\\n",
              "0         723  https://books.google.com/books/about/Classific...   \n",
              "1         724  https://books.google.com/books/about/Les_inter...   \n",
              "2         725  https://books.google.com/books/about/Histoire_...   \n",
              "3         726  https://books.google.com/books/about/Ce_livre_...   \n",
              "4         727  https://books.google.com/books/about/Le_grand_...   \n",
              "\n",
              "                                         Description           ISBN  \\\n",
              "0                                                NaN  9782871303336   \n",
              "1  C'est dans l'interaction en classe que s'actua...  9782278058327   \n",
              "2  Depuis la parution en 1918 de l'ouvrage fondat...     2343190194   \n",
              "3  Juin 1940. Les Allemands entrent dans Paris.Pa...  9782365350020   \n",
              "4  Trois histoires d'amour, un lanceur d'alerte, ...  9782702180815   \n",
              "\n",
              "                                           ImageLink Language  PublishedDate  \\\n",
              "0  https://images.isbndb.com/covers/2000472348298...       fr         2012.0   \n",
              "1  https://images.isbndb.com/covers/2384333482926...       fr         2011.0   \n",
              "2  http://books.google.com/books/content?id=Q2PMD...       fr         2020.0   \n",
              "3  https://images.isbndb.com/covers/1994518348298...       fr         2012.0   \n",
              "4  http://books.google.com/books/content?id=f5u3z...       fr         1984.0   \n",
              "\n",
              "      Publisher                                           Subjects  \\\n",
              "0   Ed du CEFAL  Classification décimale universelle; Indexatio...   \n",
              "1        Didier  didactique--langue étrangère - enseignement; d...   \n",
              "2   L'Harmattan  Histoires de vie en sociologie; Sciences socia...   \n",
              "3       Vraoum!  Moyen-Orient; Bandes dessinées autobiographiqu...   \n",
              "4  Calmann-Lévy  France--1945-1975; Roman historique; Roman fra...   \n",
              "\n",
              "                                               Title  ... book_id  \\\n",
              "0  Classification décimale universelle : édition ...  ...       0   \n",
              "1  Les interactions dans l'enseignement des langu...  ...       1   \n",
              "2  Histoire de vie et recherche biographique : pe...  ...       2   \n",
              "3  Ce livre devrait me permettre de résoudre le c...  ...       3   \n",
              "4                    Les années glorieuses : roman /  ...       4   \n",
              "\n",
              "                                         title_clean  \\\n",
              "0  Classification décimale universelle : édition ...   \n",
              "1  Les interactions dans l'enseignement des langu...   \n",
              "2  Histoire de vie et recherche biographique : pe...   \n",
              "3  Ce livre devrait me permettre de résoudre le c...   \n",
              "4                      Les années glorieuses : roman   \n",
              "\n",
              "                                   title_description  \\\n",
              "0  Classification décimale universelle : édition ...   \n",
              "1  Les interactions dans l'enseignement des langu...   \n",
              "2  Histoire de vie et recherche biographique : pe...   \n",
              "3  Ce livre devrait me permettre de résoudre le c...   \n",
              "4  Les années glorieuses : roman Trois histoires ...   \n",
              "\n",
              "                              date_title_description  \\\n",
              "0  2012 Classification décimale universelle : édi...   \n",
              "1  2011 Les interactions dans l'enseignement des ...   \n",
              "2  2020 Histoire de vie et recherche biographique...   \n",
              "3  2012 Ce livre devrait me permettre de résoudre...   \n",
              "4  1984 Les années glorieuses : roman Trois histo...   \n",
              "\n",
              "                            author_title_description  \\\n",
              "0  UDC Consortium (The Hague) Classification déci...   \n",
              "1  Cicurel, Francine, Les interactions dans l'ens...   \n",
              "2  Aneta Slowik, Hervé Breton, Gaston Pineau Hist...   \n",
              "3  Mazas, Sylvain, Ce livre devrait me permettre ...   \n",
              "4  Lemaitre, Pierre, Les années glorieuses : roma...   \n",
              "\n",
              "                       author_date_title_description  \\\n",
              "0  UDC Consortium (The Hague) 2012 Classification...   \n",
              "1  Cicurel, Francine, 2011 Les interactions dans ...   \n",
              "2  Aneta Slowik, Hervé Breton, Gaston Pineau 2020...   \n",
              "3  Mazas, Sylvain, 2012 Ce livre devrait me perme...   \n",
              "4  Lemaitre, Pierre, 1984 Les années glorieuses :...   \n",
              "\n",
              "                                   author_date_title  \\\n",
              "0  UDC Consortium (The Hague) 2012 Classification...   \n",
              "1  Cicurel, Francine, 2011 Les interactions dans ...   \n",
              "2  Aneta Slowik, Hervé Breton, Gaston Pineau 2020...   \n",
              "3  Mazas, Sylvain, 2012 Ce livre devrait me perme...   \n",
              "4  Lemaitre, Pierre, 1984 Les années glorieuses :...   \n",
              "\n",
              "                          author_date_title_subjects  \\\n",
              "0  UDC Consortium (The Hague) 2012 Classification...   \n",
              "1  Cicurel, Francine, 2011 Les interactions dans ...   \n",
              "2  Aneta Slowik, Hervé Breton, Gaston Pineau 2020...   \n",
              "3  Mazas, Sylvain, 2012 Ce livre devrait me perme...   \n",
              "4  Lemaitre, Pierre, 1984 Les années glorieuses :...   \n",
              "\n",
              "                               author_title_subjects  \\\n",
              "0  UDC Consortium (The Hague)  Classification déc...   \n",
              "1  Cicurel, Francine,  Les interactions dans l'en...   \n",
              "2  Aneta Slowik, Hervé Breton, Gaston Pineau  His...   \n",
              "3  Mazas, Sylvain,  Ce livre devrait me permettre...   \n",
              "4  Lemaitre, Pierre,  Les années glorieuses : rom...   \n",
              "\n",
              "                                           embedding  \n",
              "0  [-0.004826885, -0.0587869, -0.06438997, -0.007...  \n",
              "1  [0.0041115503, -0.012976925, 0.0044452655, 0.0...  \n",
              "2  [0.027354596, -0.025706276, -0.051459163, 0.00...  \n",
              "3  [0.036929574, -0.0399203, -0.033997424, -0.006...  \n",
              "4  [0.05324783, -0.026807835, -0.009055429, 0.005...  \n",
              "\n",
              "[5 rows x 22 columns]"
            ]
          },
          "metadata": {},
          "output_type": "display_data"
        },
        {
          "data": {
            "text/html": [
              "<div>\n",
              "<style scoped>\n",
              "    .dataframe tbody tr th:only-of-type {\n",
              "        vertical-align: middle;\n",
              "    }\n",
              "\n",
              "    .dataframe tbody tr th {\n",
              "        vertical-align: top;\n",
              "    }\n",
              "\n",
              "    .dataframe thead th {\n",
              "        text-align: right;\n",
              "    }\n",
              "</style>\n",
              "<table border=\"1\" class=\"dataframe\">\n",
              "  <thead>\n",
              "    <tr style=\"text-align: right;\">\n",
              "      <th></th>\n",
              "      <th>user_id</th>\n",
              "      <th>book_id</th>\n",
              "      <th>timestamp</th>\n",
              "    </tr>\n",
              "  </thead>\n",
              "  <tbody>\n",
              "    <tr>\n",
              "      <th>0</th>\n",
              "      <td>4456</td>\n",
              "      <td>8581</td>\n",
              "      <td>1.687541e+09</td>\n",
              "    </tr>\n",
              "    <tr>\n",
              "      <th>1</th>\n",
              "      <td>142</td>\n",
              "      <td>1964</td>\n",
              "      <td>1.679585e+09</td>\n",
              "    </tr>\n",
              "    <tr>\n",
              "      <th>2</th>\n",
              "      <td>362</td>\n",
              "      <td>3705</td>\n",
              "      <td>1.706872e+09</td>\n",
              "    </tr>\n",
              "    <tr>\n",
              "      <th>3</th>\n",
              "      <td>1809</td>\n",
              "      <td>11317</td>\n",
              "      <td>1.673533e+09</td>\n",
              "    </tr>\n",
              "    <tr>\n",
              "      <th>4</th>\n",
              "      <td>4384</td>\n",
              "      <td>1323</td>\n",
              "      <td>1.681402e+09</td>\n",
              "    </tr>\n",
              "  </tbody>\n",
              "</table>\n",
              "</div>"
            ],
            "text/plain": [
              "   user_id  book_id     timestamp\n",
              "0     4456     8581  1.687541e+09\n",
              "1      142     1964  1.679585e+09\n",
              "2      362     3705  1.706872e+09\n",
              "3     1809    11317  1.673533e+09\n",
              "4     4384     1323  1.681402e+09"
            ]
          },
          "metadata": {},
          "output_type": "display_data"
        },
        {
          "data": {
            "text/html": [
              "<div>\n",
              "<style scoped>\n",
              "    .dataframe tbody tr th:only-of-type {\n",
              "        vertical-align: middle;\n",
              "    }\n",
              "\n",
              "    .dataframe tbody tr th {\n",
              "        vertical-align: top;\n",
              "    }\n",
              "\n",
              "    .dataframe thead th {\n",
              "        text-align: right;\n",
              "    }\n",
              "</style>\n",
              "<table border=\"1\" class=\"dataframe\">\n",
              "  <thead>\n",
              "    <tr style=\"text-align: right;\">\n",
              "      <th></th>\n",
              "      <th>Unnamed: 0</th>\n",
              "      <th>CanonicalLink</th>\n",
              "      <th>Description</th>\n",
              "      <th>ISBN</th>\n",
              "      <th>ImageLink</th>\n",
              "      <th>Language</th>\n",
              "      <th>PublishedDate</th>\n",
              "      <th>Publisher</th>\n",
              "      <th>Subjects</th>\n",
              "      <th>Title</th>\n",
              "      <th>...</th>\n",
              "      <th>book_id</th>\n",
              "      <th>title_clean</th>\n",
              "      <th>title_description</th>\n",
              "      <th>date_title_description</th>\n",
              "      <th>author_title_description</th>\n",
              "      <th>author_date_title_description</th>\n",
              "      <th>author_date_title</th>\n",
              "      <th>author_date_title_subjects</th>\n",
              "      <th>author_title_subjects</th>\n",
              "      <th>embedding</th>\n",
              "    </tr>\n",
              "  </thead>\n",
              "  <tbody>\n",
              "    <tr>\n",
              "      <th>0</th>\n",
              "      <td>723</td>\n",
              "      <td>https://books.google.com/books/about/Classific...</td>\n",
              "      <td>NaN</td>\n",
              "      <td>9782871303336</td>\n",
              "      <td>https://images.isbndb.com/covers/2000472348298...</td>\n",
              "      <td>fr</td>\n",
              "      <td>2012.0</td>\n",
              "      <td>Ed du CEFAL</td>\n",
              "      <td>Classification décimale universelle; Indexatio...</td>\n",
              "      <td>Classification décimale universelle : édition ...</td>\n",
              "      <td>...</td>\n",
              "      <td>0</td>\n",
              "      <td>Classification décimale universelle : édition ...</td>\n",
              "      <td>Classification décimale universelle : édition ...</td>\n",
              "      <td>2012 Classification décimale universelle : édi...</td>\n",
              "      <td>UDC Consortium (The Hague) Classification déci...</td>\n",
              "      <td>UDC Consortium (The Hague) 2012 Classification...</td>\n",
              "      <td>UDC Consortium (The Hague) 2012 Classification...</td>\n",
              "      <td>UDC Consortium (The Hague) 2012 Classification...</td>\n",
              "      <td>UDC Consortium (The Hague)  Classification déc...</td>\n",
              "      <td>[-0.004826885, -0.0587869, -0.06438997, -0.007...</td>\n",
              "    </tr>\n",
              "    <tr>\n",
              "      <th>1</th>\n",
              "      <td>724</td>\n",
              "      <td>https://books.google.com/books/about/Les_inter...</td>\n",
              "      <td>C'est dans l'interaction en classe que s'actua...</td>\n",
              "      <td>9782278058327</td>\n",
              "      <td>https://images.isbndb.com/covers/2384333482926...</td>\n",
              "      <td>fr</td>\n",
              "      <td>2011.0</td>\n",
              "      <td>Didier</td>\n",
              "      <td>didactique--langue étrangère - enseignement; d...</td>\n",
              "      <td>Les interactions dans l'enseignement des langu...</td>\n",
              "      <td>...</td>\n",
              "      <td>1</td>\n",
              "      <td>Les interactions dans l'enseignement des langu...</td>\n",
              "      <td>Les interactions dans l'enseignement des langu...</td>\n",
              "      <td>2011 Les interactions dans l'enseignement des ...</td>\n",
              "      <td>Cicurel, Francine, Les interactions dans l'ens...</td>\n",
              "      <td>Cicurel, Francine, 2011 Les interactions dans ...</td>\n",
              "      <td>Cicurel, Francine, 2011 Les interactions dans ...</td>\n",
              "      <td>Cicurel, Francine, 2011 Les interactions dans ...</td>\n",
              "      <td>Cicurel, Francine,  Les interactions dans l'en...</td>\n",
              "      <td>[0.0041115503, -0.012976925, 0.0044452655, 0.0...</td>\n",
              "    </tr>\n",
              "    <tr>\n",
              "      <th>2</th>\n",
              "      <td>725</td>\n",
              "      <td>https://books.google.com/books/about/Histoire_...</td>\n",
              "      <td>Depuis la parution en 1918 de l'ouvrage fondat...</td>\n",
              "      <td>2343190194</td>\n",
              "      <td>http://books.google.com/books/content?id=Q2PMD...</td>\n",
              "      <td>fr</td>\n",
              "      <td>2020.0</td>\n",
              "      <td>L'Harmattan</td>\n",
              "      <td>Histoires de vie en sociologie; Sciences socia...</td>\n",
              "      <td>Histoire de vie et recherche biographique : pe...</td>\n",
              "      <td>...</td>\n",
              "      <td>2</td>\n",
              "      <td>Histoire de vie et recherche biographique : pe...</td>\n",
              "      <td>Histoire de vie et recherche biographique : pe...</td>\n",
              "      <td>2020 Histoire de vie et recherche biographique...</td>\n",
              "      <td>Aneta Slowik, Hervé Breton, Gaston Pineau Hist...</td>\n",
              "      <td>Aneta Slowik, Hervé Breton, Gaston Pineau 2020...</td>\n",
              "      <td>Aneta Slowik, Hervé Breton, Gaston Pineau 2020...</td>\n",
              "      <td>Aneta Slowik, Hervé Breton, Gaston Pineau 2020...</td>\n",
              "      <td>Aneta Slowik, Hervé Breton, Gaston Pineau  His...</td>\n",
              "      <td>[0.027354596, -0.025706276, -0.051459163, 0.00...</td>\n",
              "    </tr>\n",
              "    <tr>\n",
              "      <th>3</th>\n",
              "      <td>726</td>\n",
              "      <td>https://books.google.com/books/about/Ce_livre_...</td>\n",
              "      <td>Juin 1940. Les Allemands entrent dans Paris.Pa...</td>\n",
              "      <td>9782365350020</td>\n",
              "      <td>https://images.isbndb.com/covers/1994518348298...</td>\n",
              "      <td>fr</td>\n",
              "      <td>2012.0</td>\n",
              "      <td>Vraoum!</td>\n",
              "      <td>Moyen-Orient; Bandes dessinées autobiographiqu...</td>\n",
              "      <td>Ce livre devrait me permettre de résoudre le c...</td>\n",
              "      <td>...</td>\n",
              "      <td>3</td>\n",
              "      <td>Ce livre devrait me permettre de résoudre le c...</td>\n",
              "      <td>Ce livre devrait me permettre de résoudre le c...</td>\n",
              "      <td>2012 Ce livre devrait me permettre de résoudre...</td>\n",
              "      <td>Mazas, Sylvain, Ce livre devrait me permettre ...</td>\n",
              "      <td>Mazas, Sylvain, 2012 Ce livre devrait me perme...</td>\n",
              "      <td>Mazas, Sylvain, 2012 Ce livre devrait me perme...</td>\n",
              "      <td>Mazas, Sylvain, 2012 Ce livre devrait me perme...</td>\n",
              "      <td>Mazas, Sylvain,  Ce livre devrait me permettre...</td>\n",
              "      <td>[0.036929574, -0.0399203, -0.033997424, -0.006...</td>\n",
              "    </tr>\n",
              "    <tr>\n",
              "      <th>4</th>\n",
              "      <td>727</td>\n",
              "      <td>https://books.google.com/books/about/Le_grand_...</td>\n",
              "      <td>Trois histoires d'amour, un lanceur d'alerte, ...</td>\n",
              "      <td>9782702180815</td>\n",
              "      <td>http://books.google.com/books/content?id=f5u3z...</td>\n",
              "      <td>fr</td>\n",
              "      <td>1984.0</td>\n",
              "      <td>Calmann-Lévy</td>\n",
              "      <td>France--1945-1975; Roman historique; Roman fra...</td>\n",
              "      <td>Les années glorieuses : roman /</td>\n",
              "      <td>...</td>\n",
              "      <td>4</td>\n",
              "      <td>Les années glorieuses : roman</td>\n",
              "      <td>Les années glorieuses : roman Trois histoires ...</td>\n",
              "      <td>1984 Les années glorieuses : roman Trois histo...</td>\n",
              "      <td>Lemaitre, Pierre, Les années glorieuses : roma...</td>\n",
              "      <td>Lemaitre, Pierre, 1984 Les années glorieuses :...</td>\n",
              "      <td>Lemaitre, Pierre, 1984 Les années glorieuses :...</td>\n",
              "      <td>Lemaitre, Pierre, 1984 Les années glorieuses :...</td>\n",
              "      <td>Lemaitre, Pierre,  Les années glorieuses : rom...</td>\n",
              "      <td>[0.05324783, -0.026807835, -0.009055429, 0.005...</td>\n",
              "    </tr>\n",
              "  </tbody>\n",
              "</table>\n",
              "<p>5 rows × 22 columns</p>\n",
              "</div>"
            ],
            "text/plain": [
              "   Unnamed: 0                                      CanonicalLink  \\\n",
              "0         723  https://books.google.com/books/about/Classific...   \n",
              "1         724  https://books.google.com/books/about/Les_inter...   \n",
              "2         725  https://books.google.com/books/about/Histoire_...   \n",
              "3         726  https://books.google.com/books/about/Ce_livre_...   \n",
              "4         727  https://books.google.com/books/about/Le_grand_...   \n",
              "\n",
              "                                         Description           ISBN  \\\n",
              "0                                                NaN  9782871303336   \n",
              "1  C'est dans l'interaction en classe que s'actua...  9782278058327   \n",
              "2  Depuis la parution en 1918 de l'ouvrage fondat...     2343190194   \n",
              "3  Juin 1940. Les Allemands entrent dans Paris.Pa...  9782365350020   \n",
              "4  Trois histoires d'amour, un lanceur d'alerte, ...  9782702180815   \n",
              "\n",
              "                                           ImageLink Language  PublishedDate  \\\n",
              "0  https://images.isbndb.com/covers/2000472348298...       fr         2012.0   \n",
              "1  https://images.isbndb.com/covers/2384333482926...       fr         2011.0   \n",
              "2  http://books.google.com/books/content?id=Q2PMD...       fr         2020.0   \n",
              "3  https://images.isbndb.com/covers/1994518348298...       fr         2012.0   \n",
              "4  http://books.google.com/books/content?id=f5u3z...       fr         1984.0   \n",
              "\n",
              "      Publisher                                           Subjects  \\\n",
              "0   Ed du CEFAL  Classification décimale universelle; Indexatio...   \n",
              "1        Didier  didactique--langue étrangère - enseignement; d...   \n",
              "2   L'Harmattan  Histoires de vie en sociologie; Sciences socia...   \n",
              "3       Vraoum!  Moyen-Orient; Bandes dessinées autobiographiqu...   \n",
              "4  Calmann-Lévy  France--1945-1975; Roman historique; Roman fra...   \n",
              "\n",
              "                                               Title  ... book_id  \\\n",
              "0  Classification décimale universelle : édition ...  ...       0   \n",
              "1  Les interactions dans l'enseignement des langu...  ...       1   \n",
              "2  Histoire de vie et recherche biographique : pe...  ...       2   \n",
              "3  Ce livre devrait me permettre de résoudre le c...  ...       3   \n",
              "4                    Les années glorieuses : roman /  ...       4   \n",
              "\n",
              "                                         title_clean  \\\n",
              "0  Classification décimale universelle : édition ...   \n",
              "1  Les interactions dans l'enseignement des langu...   \n",
              "2  Histoire de vie et recherche biographique : pe...   \n",
              "3  Ce livre devrait me permettre de résoudre le c...   \n",
              "4                      Les années glorieuses : roman   \n",
              "\n",
              "                                   title_description  \\\n",
              "0  Classification décimale universelle : édition ...   \n",
              "1  Les interactions dans l'enseignement des langu...   \n",
              "2  Histoire de vie et recherche biographique : pe...   \n",
              "3  Ce livre devrait me permettre de résoudre le c...   \n",
              "4  Les années glorieuses : roman Trois histoires ...   \n",
              "\n",
              "                              date_title_description  \\\n",
              "0  2012 Classification décimale universelle : édi...   \n",
              "1  2011 Les interactions dans l'enseignement des ...   \n",
              "2  2020 Histoire de vie et recherche biographique...   \n",
              "3  2012 Ce livre devrait me permettre de résoudre...   \n",
              "4  1984 Les années glorieuses : roman Trois histo...   \n",
              "\n",
              "                            author_title_description  \\\n",
              "0  UDC Consortium (The Hague) Classification déci...   \n",
              "1  Cicurel, Francine, Les interactions dans l'ens...   \n",
              "2  Aneta Slowik, Hervé Breton, Gaston Pineau Hist...   \n",
              "3  Mazas, Sylvain, Ce livre devrait me permettre ...   \n",
              "4  Lemaitre, Pierre, Les années glorieuses : roma...   \n",
              "\n",
              "                       author_date_title_description  \\\n",
              "0  UDC Consortium (The Hague) 2012 Classification...   \n",
              "1  Cicurel, Francine, 2011 Les interactions dans ...   \n",
              "2  Aneta Slowik, Hervé Breton, Gaston Pineau 2020...   \n",
              "3  Mazas, Sylvain, 2012 Ce livre devrait me perme...   \n",
              "4  Lemaitre, Pierre, 1984 Les années glorieuses :...   \n",
              "\n",
              "                                   author_date_title  \\\n",
              "0  UDC Consortium (The Hague) 2012 Classification...   \n",
              "1  Cicurel, Francine, 2011 Les interactions dans ...   \n",
              "2  Aneta Slowik, Hervé Breton, Gaston Pineau 2020...   \n",
              "3  Mazas, Sylvain, 2012 Ce livre devrait me perme...   \n",
              "4  Lemaitre, Pierre, 1984 Les années glorieuses :...   \n",
              "\n",
              "                          author_date_title_subjects  \\\n",
              "0  UDC Consortium (The Hague) 2012 Classification...   \n",
              "1  Cicurel, Francine, 2011 Les interactions dans ...   \n",
              "2  Aneta Slowik, Hervé Breton, Gaston Pineau 2020...   \n",
              "3  Mazas, Sylvain, 2012 Ce livre devrait me perme...   \n",
              "4  Lemaitre, Pierre, 1984 Les années glorieuses :...   \n",
              "\n",
              "                               author_title_subjects  \\\n",
              "0  UDC Consortium (The Hague)  Classification déc...   \n",
              "1  Cicurel, Francine,  Les interactions dans l'en...   \n",
              "2  Aneta Slowik, Hervé Breton, Gaston Pineau  His...   \n",
              "3  Mazas, Sylvain,  Ce livre devrait me permettre...   \n",
              "4  Lemaitre, Pierre,  Les années glorieuses : rom...   \n",
              "\n",
              "                                           embedding  \n",
              "0  [-0.004826885, -0.0587869, -0.06438997, -0.007...  \n",
              "1  [0.0041115503, -0.012976925, 0.0044452655, 0.0...  \n",
              "2  [0.027354596, -0.025706276, -0.051459163, 0.00...  \n",
              "3  [0.036929574, -0.0399203, -0.033997424, -0.006...  \n",
              "4  [0.05324783, -0.026807835, -0.009055429, 0.005...  \n",
              "\n",
              "[5 rows x 22 columns]"
            ]
          },
          "metadata": {},
          "output_type": "display_data"
        }
      ],
      "source": [
        "# Load the datasets\n",
        "\n",
        "interactions = pd.read_csv('https://raw.githubusercontent.com/linneverh/MachineLearning/main/interactions_train.csv')\n",
        "\n",
        "#FOR: Google enhanced & ISBN enhanced - author_date_title_subjects priority\n",
        "items1 = pd.read_csv(\"https://media.githubusercontent.com/media/ML-brooowss/ML/refs/heads/main/final_items/author_date_title_subjects/embeddings_part1.csv\")\n",
        "items2 = pd.read_csv(\"https://media.githubusercontent.com/media/ML-brooowss/ML/refs/heads/main/final_items/author_date_title_subjects/embeddings_part2.csv\")\n",
        "items = pd.concat([items1, items2])\n",
        "\n",
        "#rename columns\n",
        "interactions = interactions.rename(columns={'u': 'user_id', 'i': 'book_id', 't': 'timestamp'})\n",
        "items=items.rename(columns={'i':'book_id'})\n",
        "\n",
        "# Display the first rows of the updated interactions DataFrame\n",
        "display(interactions.head())\n",
        "display(items.head())\n",
        "\n",
        "# Display the first rows of each dataset\n",
        "display(interactions.head())\n",
        "display(items.head())"
      ]
    },
    {
      "cell_type": "markdown",
      "metadata": {
        "id": "5GeQ_ys3CeJa"
      },
      "source": [
        "\n",
        "#### Step 2: Check the Number of interactions, users and books"
      ]
    },
    {
      "cell_type": "code",
      "execution_count": null,
      "metadata": {
        "colab": {
          "base_uri": "https://localhost:8080/"
        },
        "id": "LHDaQs3tCeJb",
        "outputId": "6b115096-413d-41be-c97a-dfcfd3fb980b"
      },
      "outputs": [
        {
          "name": "stdout",
          "output_type": "stream",
          "text": [
            "Number of users = 7838, \n",
            " Number of books = 15291 \n",
            " Number of interactions = 87047\n"
          ]
        }
      ],
      "source": [
        "n_users = interactions.user_id.nunique()\n",
        "n_items = items.book_id.nunique()\n",
        "print(f'Number of users = {n_users}, \\n Number of books = {n_items} \\n Number of interactions = {len(interactions)}')\n"
      ]
    },
    {
      "cell_type": "code",
      "execution_count": null,
      "metadata": {
        "colab": {
          "base_uri": "https://localhost:8080/"
        },
        "id": "J-RX3iodzW4n",
        "outputId": "56b26c06-6bd7-45b9-8cfb-364d060863a6"
      },
      "outputs": [
        {
          "name": "stdout",
          "output_type": "stream",
          "text": [
            "Number of books = 15291\n"
          ]
        }
      ],
      "source": [
        "n_items = items.book_id.nunique()\n",
        "print(f'Number of books = {n_items}')"
      ]
    },
    {
      "cell_type": "markdown",
      "metadata": {
        "id": "mQ02IWmrCeJb"
      },
      "source": [
        "\n",
        "###Step 3: Split the Data into Training and Test Sets"
      ]
    },
    {
      "cell_type": "code",
      "execution_count": null,
      "metadata": {
        "colab": {
          "base_uri": "https://localhost:8080/",
          "height": 423
        },
        "id": "gd32QvvuZWac",
        "outputId": "52035726-99fd-468e-c187-0cc34b012359"
      },
      "outputs": [
        {
          "data": {
            "text/html": [
              "<div>\n",
              "<style scoped>\n",
              "    .dataframe tbody tr th:only-of-type {\n",
              "        vertical-align: middle;\n",
              "    }\n",
              "\n",
              "    .dataframe tbody tr th {\n",
              "        vertical-align: top;\n",
              "    }\n",
              "\n",
              "    .dataframe thead th {\n",
              "        text-align: right;\n",
              "    }\n",
              "</style>\n",
              "<table border=\"1\" class=\"dataframe\">\n",
              "  <thead>\n",
              "    <tr style=\"text-align: right;\">\n",
              "      <th></th>\n",
              "      <th>user_id</th>\n",
              "      <th>book_id</th>\n",
              "      <th>timestamp</th>\n",
              "    </tr>\n",
              "  </thead>\n",
              "  <tbody>\n",
              "    <tr>\n",
              "      <th>21035</th>\n",
              "      <td>0</td>\n",
              "      <td>0</td>\n",
              "      <td>1.680191e+09</td>\n",
              "    </tr>\n",
              "    <tr>\n",
              "      <th>28842</th>\n",
              "      <td>0</td>\n",
              "      <td>1</td>\n",
              "      <td>1.680783e+09</td>\n",
              "    </tr>\n",
              "    <tr>\n",
              "      <th>3958</th>\n",
              "      <td>0</td>\n",
              "      <td>2</td>\n",
              "      <td>1.680801e+09</td>\n",
              "    </tr>\n",
              "    <tr>\n",
              "      <th>29592</th>\n",
              "      <td>0</td>\n",
              "      <td>3</td>\n",
              "      <td>1.683715e+09</td>\n",
              "    </tr>\n",
              "    <tr>\n",
              "      <th>6371</th>\n",
              "      <td>0</td>\n",
              "      <td>3</td>\n",
              "      <td>1.683715e+09</td>\n",
              "    </tr>\n",
              "    <tr>\n",
              "      <th>...</th>\n",
              "      <td>...</td>\n",
              "      <td>...</td>\n",
              "      <td>...</td>\n",
              "    </tr>\n",
              "    <tr>\n",
              "      <th>20068</th>\n",
              "      <td>2</td>\n",
              "      <td>53</td>\n",
              "      <td>1.694861e+09</td>\n",
              "    </tr>\n",
              "    <tr>\n",
              "      <th>12721</th>\n",
              "      <td>2</td>\n",
              "      <td>53</td>\n",
              "      <td>1.695226e+09</td>\n",
              "    </tr>\n",
              "    <tr>\n",
              "      <th>86745</th>\n",
              "      <td>2</td>\n",
              "      <td>53</td>\n",
              "      <td>1.695226e+09</td>\n",
              "    </tr>\n",
              "    <tr>\n",
              "      <th>19329</th>\n",
              "      <td>2</td>\n",
              "      <td>53</td>\n",
              "      <td>1.695226e+09</td>\n",
              "    </tr>\n",
              "    <tr>\n",
              "      <th>79240</th>\n",
              "      <td>2</td>\n",
              "      <td>76</td>\n",
              "      <td>1.697288e+09</td>\n",
              "    </tr>\n",
              "  </tbody>\n",
              "</table>\n",
              "<p>100 rows × 3 columns</p>\n",
              "</div>"
            ],
            "text/plain": [
              "       user_id  book_id     timestamp\n",
              "21035        0        0  1.680191e+09\n",
              "28842        0        1  1.680783e+09\n",
              "3958         0        2  1.680801e+09\n",
              "29592        0        3  1.683715e+09\n",
              "6371         0        3  1.683715e+09\n",
              "...        ...      ...           ...\n",
              "20068        2       53  1.694861e+09\n",
              "12721        2       53  1.695226e+09\n",
              "86745        2       53  1.695226e+09\n",
              "19329        2       53  1.695226e+09\n",
              "79240        2       76  1.697288e+09\n",
              "\n",
              "[100 rows x 3 columns]"
            ]
          },
          "execution_count": 8,
          "metadata": {},
          "output_type": "execute_result"
        }
      ],
      "source": [
        "# let's first sort the interactions by user and time stamp\n",
        "interactions = interactions.sort_values([\"user_id\", \"timestamp\"])\n",
        "interactions.head(100)"
      ]
    },
    {
      "cell_type": "code",
      "execution_count": null,
      "metadata": {
        "colab": {
          "base_uri": "https://localhost:8080/",
          "height": 362
        },
        "id": "_nG-g8CoZuFM",
        "outputId": "35e339f4-9ae5-40be-d727-22c6911e8286"
      },
      "outputs": [
        {
          "data": {
            "text/html": [
              "<div>\n",
              "<style scoped>\n",
              "    .dataframe tbody tr th:only-of-type {\n",
              "        vertical-align: middle;\n",
              "    }\n",
              "\n",
              "    .dataframe tbody tr th {\n",
              "        vertical-align: top;\n",
              "    }\n",
              "\n",
              "    .dataframe thead th {\n",
              "        text-align: right;\n",
              "    }\n",
              "</style>\n",
              "<table border=\"1\" class=\"dataframe\">\n",
              "  <thead>\n",
              "    <tr style=\"text-align: right;\">\n",
              "      <th></th>\n",
              "      <th>user_id</th>\n",
              "      <th>book_id</th>\n",
              "      <th>timestamp</th>\n",
              "      <th>pct_rank</th>\n",
              "    </tr>\n",
              "  </thead>\n",
              "  <tbody>\n",
              "    <tr>\n",
              "      <th>0</th>\n",
              "      <td>0</td>\n",
              "      <td>0</td>\n",
              "      <td>1.680191e+09</td>\n",
              "      <td>0.04</td>\n",
              "    </tr>\n",
              "    <tr>\n",
              "      <th>1</th>\n",
              "      <td>0</td>\n",
              "      <td>1</td>\n",
              "      <td>1.680783e+09</td>\n",
              "      <td>0.08</td>\n",
              "    </tr>\n",
              "    <tr>\n",
              "      <th>2</th>\n",
              "      <td>0</td>\n",
              "      <td>2</td>\n",
              "      <td>1.680801e+09</td>\n",
              "      <td>0.12</td>\n",
              "    </tr>\n",
              "    <tr>\n",
              "      <th>3</th>\n",
              "      <td>0</td>\n",
              "      <td>3</td>\n",
              "      <td>1.683715e+09</td>\n",
              "      <td>0.16</td>\n",
              "    </tr>\n",
              "    <tr>\n",
              "      <th>4</th>\n",
              "      <td>0</td>\n",
              "      <td>3</td>\n",
              "      <td>1.683715e+09</td>\n",
              "      <td>0.20</td>\n",
              "    </tr>\n",
              "    <tr>\n",
              "      <th>5</th>\n",
              "      <td>0</td>\n",
              "      <td>4</td>\n",
              "      <td>1.686569e+09</td>\n",
              "      <td>0.24</td>\n",
              "    </tr>\n",
              "    <tr>\n",
              "      <th>6</th>\n",
              "      <td>0</td>\n",
              "      <td>5</td>\n",
              "      <td>1.687014e+09</td>\n",
              "      <td>0.28</td>\n",
              "    </tr>\n",
              "    <tr>\n",
              "      <th>7</th>\n",
              "      <td>0</td>\n",
              "      <td>6</td>\n",
              "      <td>1.687014e+09</td>\n",
              "      <td>0.32</td>\n",
              "    </tr>\n",
              "    <tr>\n",
              "      <th>8</th>\n",
              "      <td>0</td>\n",
              "      <td>7</td>\n",
              "      <td>1.687014e+09</td>\n",
              "      <td>0.36</td>\n",
              "    </tr>\n",
              "    <tr>\n",
              "      <th>9</th>\n",
              "      <td>0</td>\n",
              "      <td>8</td>\n",
              "      <td>1.687260e+09</td>\n",
              "      <td>0.40</td>\n",
              "    </tr>\n",
              "  </tbody>\n",
              "</table>\n",
              "</div>"
            ],
            "text/plain": [
              "   user_id  book_id     timestamp  pct_rank\n",
              "0        0        0  1.680191e+09      0.04\n",
              "1        0        1  1.680783e+09      0.08\n",
              "2        0        2  1.680801e+09      0.12\n",
              "3        0        3  1.683715e+09      0.16\n",
              "4        0        3  1.683715e+09      0.20\n",
              "5        0        4  1.686569e+09      0.24\n",
              "6        0        5  1.687014e+09      0.28\n",
              "7        0        6  1.687014e+09      0.32\n",
              "8        0        7  1.687014e+09      0.36\n",
              "9        0        8  1.687260e+09      0.40"
            ]
          },
          "execution_count": 9,
          "metadata": {},
          "output_type": "execute_result"
        }
      ],
      "source": [
        "interactions[\"pct_rank\"] = interactions.groupby(\"user_id\")[\"timestamp\"].rank(pct=True, method='dense')\n",
        "interactions.reset_index(inplace=True, drop=True)\n",
        "interactions.head(10)"
      ]
    },
    {
      "cell_type": "markdown",
      "metadata": {
        "id": "8JaLSrKya5P6"
      },
      "source": [
        "Now all remains to do is to pick the first 80% of the interactions of each user in the training set and the rest in the test set. We can do so using the `pct_rank` column."
      ]
    },
    {
      "cell_type": "code",
      "execution_count": null,
      "metadata": {
        "id": "keedrU6da4Kd"
      },
      "outputs": [],
      "source": [
        "train_data = interactions[interactions[\"pct_rank\"] < 0.8]\n",
        "test_data = interactions[interactions[\"pct_rank\"] >= 0.8]"
      ]
    },
    {
      "cell_type": "code",
      "execution_count": null,
      "metadata": {
        "colab": {
          "base_uri": "https://localhost:8080/"
        },
        "id": "P68b_ijzCeJb",
        "outputId": "0a945499-ccc7-4386-d280-e2bec690d276"
      },
      "outputs": [
        {
          "name": "stdout",
          "output_type": "stream",
          "text": [
            "Training set size: 65419\n",
            "Testing set size: 21628\n"
          ]
        }
      ],
      "source": [
        "print(\"Training set size:\", train_data.shape[0])\n",
        "print(\"Testing set size:\", test_data.shape[0])"
      ]
    },
    {
      "cell_type": "markdown",
      "metadata": {
        "id": "0qX6z1MoCeJb"
      },
      "source": [
        "#### Task 2: Creating User-Item Matrices for Implicit Feedback\n"
      ]
    },
    {
      "cell_type": "code",
      "execution_count": null,
      "metadata": {
        "colab": {
          "base_uri": "https://localhost:8080/"
        },
        "id": "Nv7ZMDzNCeJc",
        "outputId": "08382164-f61b-449f-c82b-2fde4ff6ca96"
      },
      "outputs": [
        {
          "name": "stdout",
          "output_type": "stream",
          "text": [
            "number of users = 7838 | number of movies = 15291\n"
          ]
        }
      ],
      "source": [
        "print('number of users =', n_users, '| number of movies =', n_items)"
      ]
    },
    {
      "cell_type": "markdown",
      "metadata": {
        "id": "G4WD0VpYCeJc"
      },
      "source": [
        "#### Step 1: Define the Function to Create the Data Matrix\n"
      ]
    },
    {
      "cell_type": "code",
      "execution_count": null,
      "metadata": {
        "id": "3hk-nUZgCeJc"
      },
      "outputs": [],
      "source": [
        "# Define a function to create the data matrix\n",
        "def create_data_matrix(data, n_users, n_items):\n",
        "    \"\"\"\n",
        "    This function returns a numpy matrix with shape (n_users, n_items).\n",
        "    Each entry is a binary value indicating positive interaction.\n",
        "    \"\"\"\n",
        "    data_matrix = np.zeros((n_users, n_items))\n",
        "    data_matrix[data[\"user_id\"].values, data[\"book_id\"].values] = 1\n",
        "    return data_matrix"
      ]
    },
    {
      "cell_type": "markdown",
      "metadata": {
        "id": "EnvgOARgCeJc"
      },
      "source": [
        "#### Step 2: Create the Training and Testing Matrices\n",
        "\n",
        "Now we can use the function to create matrices for both the training and testing data. Each cell in the matrix will show a 1 if there was a positive interaction in the training or testing data, and a 0 otherwise."
      ]
    },
    {
      "cell_type": "code",
      "execution_count": null,
      "metadata": {
        "id": "ORFZP6JIcVqP"
      },
      "outputs": [],
      "source": [
        "entire_data=create_data_matrix(interactions, n_users, n_items)"
      ]
    },
    {
      "cell_type": "code",
      "execution_count": null,
      "metadata": {
        "colab": {
          "base_uri": "https://localhost:8080/"
        },
        "id": "hFQ62rQWCeJc",
        "outputId": "95b88eea-8fb7-46d2-8463-808110e2e2ef"
      },
      "outputs": [
        {
          "name": "stdout",
          "output_type": "stream",
          "text": [
            "train_data_matrix\n",
            "[[1. 1. 1. ... 0. 0. 0.]\n",
            " [0. 0. 0. ... 0. 0. 0.]\n",
            " [0. 0. 0. ... 0. 0. 0.]\n",
            " ...\n",
            " [0. 0. 0. ... 0. 0. 0.]\n",
            " [0. 0. 0. ... 0. 0. 0.]\n",
            " [0. 0. 0. ... 0. 0. 0.]]\n",
            "number of non-zero values:  49689.0\n",
            "test_data_matrix\n",
            "[[0. 0. 0. ... 0. 0. 0.]\n",
            " [0. 0. 0. ... 0. 0. 0.]\n",
            " [0. 0. 0. ... 0. 0. 0.]\n",
            " ...\n",
            " [0. 0. 0. ... 0. 0. 0.]\n",
            " [0. 0. 0. ... 0. 0. 0.]\n",
            " [0. 0. 0. ... 0. 0. 0.]]\n",
            "number of non-zero values:  19409.0\n"
          ]
        }
      ],
      "source": [
        "# Create the training and testing matrices\n",
        "train_data_matrix = create_data_matrix(train_data, n_users, n_items)\n",
        "test_data_matrix = create_data_matrix(test_data, n_users, n_items)\n",
        "\n",
        "# Display the matrices to understand their structure\n",
        "print('train_data_matrix')\n",
        "print(train_data_matrix)\n",
        "print(\"number of non-zero values: \", np.sum(train_data_matrix))\n",
        "print('test_data_matrix')\n",
        "print(test_data_matrix)\n",
        "print(\"number of non-zero values: \", np.sum(test_data_matrix))\n"
      ]
    },
    {
      "cell_type": "code",
      "execution_count": null,
      "metadata": {
        "colab": {
          "base_uri": "https://localhost:8080/"
        },
        "id": "9x2mjoA_tFG4",
        "outputId": "7b206d91-fae1-431f-bcf0-907f1a4a8f55"
      },
      "outputs": [
        {
          "name": "stdout",
          "output_type": "stream",
          "text": [
            "Train data matrix dimensions: (7838, 15291)\n",
            "Test data matrix dimensions: (7838, 15291)\n"
          ]
        }
      ],
      "source": [
        "#give the dimensions of matrices\n",
        "print(\"Train data matrix dimensions:\", train_data_matrix.shape)\n",
        "print(\"Test data matrix dimensions:\", test_data_matrix.shape)"
      ]
    },
    {
      "cell_type": "markdown",
      "metadata": {
        "id": "ZnQdJecyBBF1"
      },
      "source": [
        "###Basic Definitions"
      ]
    },
    {
      "cell_type": "code",
      "execution_count": null,
      "metadata": {
        "id": "_p3MnNG_BALq"
      },
      "outputs": [],
      "source": [
        "# Recommendation frame generation\n",
        "def create_recommendation_table(user_predictions, top_n=10, separator=\" \"):\n",
        "    \"\"\"\n",
        "    Creates a table of top-N recommendations for each user.\n",
        "\n",
        "    Args:\n",
        "        user_predictions (numpy.ndarray): Rows = users, columns = items. Predicted scores.\n",
        "        top_n (int): Number of top recommendations per user.\n",
        "        separator (str): Delimiter to join recommended book IDs.\n",
        "\n",
        "    Returns:\n",
        "        pandas.DataFrame: Columns = ['user_id', 'recommendation'].\n",
        "    \"\"\"\n",
        "    recommendations = []\n",
        "    num_users = user_predictions.shape[0]\n",
        "\n",
        "    for user_id in range(num_users):\n",
        "        top_items = np.argsort(user_predictions[user_id, :])[-top_n:][::-1]\n",
        "        recommendations.append({\n",
        "            'user_id': user_id,\n",
        "            'recommendation': separator.join(map(str, top_items))\n",
        "        })\n",
        "\n",
        "    return pd.DataFrame(recommendations)"
      ]
    },
    {
      "cell_type": "code",
      "execution_count": null,
      "metadata": {
        "id": "T2DnLzkMVUTQ"
      },
      "outputs": [],
      "source": [
        "# Def for the precision_recall_at_k function\n",
        "def precision_recall_at_k(prediction, ground_truth, k=10):\n",
        "    \"\"\"\n",
        "    Calculates Precision@K and Recall@K for top-K recommendations.\n",
        "    Parameters:\n",
        "        prediction (numpy array): The predicted interaction matrix with scores.\n",
        "        ground_truth (numpy array): The ground truth interaction matrix (binary).\n",
        "        k (int): Number of top recommendations to consider.\n",
        "    Returns:\n",
        "        precision_at_k (float): The average precision@K over all users.\n",
        "        recall_at_k (float): The average recall@K over all users.\n",
        "    \"\"\"\n",
        "    num_users = prediction.shape[0]\n",
        "    precision_at_k, recall_at_k = 0, 0\n",
        "\n",
        "    for user in range(num_users):\n",
        "        # TODO: Get the indices of the top-K items for the user based on predicted scores\n",
        "        top_k_items = np.argsort(prediction[user, :])[-k:]\n",
        "\n",
        "        # TODO: Calculate the number of relevant items in the top-K items for the user\n",
        "        relevant_items_in_top_k = np.isin(top_k_items, np.where(ground_truth[user, :] == 1)[0]).sum()\n",
        "\n",
        "        # TODO: Calculate the total number of relevant items for the user\n",
        "        total_relevant_items = ground_truth[user, :].sum()\n",
        "\n",
        "        # Precision@K and Recall@K for this user\n",
        "        precision_at_k += relevant_items_in_top_k / k\n",
        "        recall_at_k += relevant_items_in_top_k / total_relevant_items if total_relevant_items > 0 else 0\n",
        "\n",
        "    # Average Precision@K and Recall@K over all users\n",
        "    precision_at_k /= num_users\n",
        "    recall_at_k /= num_users\n",
        "\n",
        "    return precision_at_k, recall_at_k"
      ]
    },
    {
      "cell_type": "code",
      "execution_count": null,
      "metadata": {
        "id": "maCLw9AGXJ3Y"
      },
      "outputs": [],
      "source": [
        "# Create random splits def.\n",
        "def random_split_per_user(interactions_df, test_size=0.2):\n",
        "    train_list = []\n",
        "    test_list = []\n",
        "    for user_id, user_df in interactions_df.groupby('user_id'):\n",
        "        train_df, test_df = train_test_split(user_df, test_size=test_size)\n",
        "        train_list.append(train_df)\n",
        "        test_list.append(test_df)\n",
        "    return pd.concat(train_list), pd.concat(test_list)"
      ]
    },
    {
      "cell_type": "code",
      "execution_count": null,
      "metadata": {
        "id": "J4k9GVBDjupC"
      },
      "outputs": [],
      "source": [
        "# Define the function to predict interactions based on item similarity\n",
        "def item_based_predict(interactions, similarity, epsilon=1e-9):\n",
        "    \"\"\"\n",
        "    Predicts user-item interactions based on item-item similarity.\n",
        "    Parameters:\n",
        "        interactions (numpy array): The user-item interaction matrix.\n",
        "        similarity (numpy array): The item-item similarity matrix.\n",
        "        epsilon (float): Small constant added to the denominator to avoid division by zero.\n",
        "    Returns:\n",
        "        numpy array: The predicted interaction scores for each user-item pair.\n",
        "    \"\"\"\n",
        "    # np.dot does the matrix multiplication. Here we are calculating the\n",
        "    # weighted sum of interactions based on item similarity\n",
        "    pred = similarity.dot(interactions.T) / (similarity.sum(axis=1)[:, np.newaxis] + epsilon)\n",
        "    return pred.T  # Transpose to get users as rows and items as columns"
      ]
    },
    {
      "cell_type": "markdown",
      "metadata": {
        "id": "6lhSv9r6IZtE"
      },
      "source": [
        "### TF-IDF\n"
      ]
    },
    {
      "cell_type": "code",
      "execution_count": null,
      "metadata": {
        "id": "WkUW6J2bDWzR"
      },
      "outputs": [],
      "source": [
        "#TF-IDF\n",
        "\n",
        "# STEP 1: Build and clean the combined text feature\n",
        "text_fields = ['Publisher', 'Subjects', 'google_api_title', 'author_clean']\n",
        "items['combined_text'] = items[text_fields].fillna('').agg(' '.join, axis=1)\n",
        "\n",
        "# # STEP 2: Align items with those used in the train_data_matrix (e.g., by book_id)\n",
        "# # to ensure the order of books in the TF-IDF matrix exactly matches the item columns in the collaborative filtering matrix, so similarity scores align correctly with item IDs.\n",
        "items_ordered = items.set_index('book_id').loc[range(entire_data.shape[1])]\n",
        "\n",
        "# # STEP 3: Compute TF-IDF matrix and cosine similarity\n",
        "tfidf = TfidfVectorizer(stop_words='english', max_features=1000)\n",
        "tfidf_matrix = tfidf.fit_transform(items_ordered['combined_text'])\n",
        "\n",
        "# # Cosine similarity between item vectors\n",
        "tfidf_sim = cosine_similarity(tfidf_matrix)"
      ]
    },
    {
      "cell_type": "markdown",
      "metadata": {
        "id": "m5XWMbRDIkno"
      },
      "source": [
        "#### Google API similarity <BR>"
      ]
    },
    {
      "cell_type": "code",
      "execution_count": null,
      "metadata": {
        "id": "Kb_5N8tCkgC5"
      },
      "outputs": [],
      "source": [
        "# Select only the item IDs in the training data matrix\n",
        "train_item_ids = range(entire_data.shape[1])\n",
        "\n",
        "# Ensure correct item order by aligning to the item indices used in the train matrix\n",
        "items_ordered = items.set_index('book_id').loc[train_item_ids]\n",
        "\n",
        "# Parse the embedding strings into numpy arrays\n",
        "items_ordered['embedding'] = items_ordered['embedding'].apply(lambda x: np.fromstring(x.strip('[]'), sep=','))\n",
        "\n",
        "# Drop rows with missing or malformed embeddings (if any)\n",
        "valid_items = items_ordered[items_ordered['embedding'].notna()].reset_index(drop=True)\n",
        "\n",
        "# Stack embeddings into a matrix\n",
        "embedding_matrix = np.vstack(valid_items['embedding'].values)\n",
        "\n",
        "# Compute cosine similarity\n",
        "embedding_sim = cosine_similarity(embedding_matrix)"
      ]
    },
    {
      "cell_type": "markdown",
      "metadata": {
        "id": "s421o1vwIpQL"
      },
      "source": [
        "#### BERT Similarity"
      ]
    },
    {
      "cell_type": "code",
      "execution_count": null,
      "metadata": {
        "colab": {
          "base_uri": "https://localhost:8080/",
          "height": 211
        },
        "id": "BKuhs4IUIjeT",
        "outputId": "27a46de7-582f-464b-95fd-54f682b51dda"
      },
      "outputs": [
        {
          "data": {
            "application/vnd.jupyter.widget-view+json": {
              "model_id": "3a275ed76ccf432ab162b2b024b23a35",
              "version_major": 2,
              "version_minor": 0
            },
            "text/plain": [
              "Batches:   0%|          | 0/478 [00:00<?, ?it/s]"
            ]
          },
          "metadata": {},
          "output_type": "display_data"
        }
      ],
      "source": [
        "import os\n",
        "# STEP 1: Combine text features\n",
        "text_fields = ['Publisher', 'Subjects', 'google_api_title', 'author_clean']\n",
        "items['combined_text'] = items[text_fields].fillna('').agg(' '.join, axis=1)\n",
        "\n",
        "# STEP 2: Align with train_data_matrix\n",
        "items_ordered = items.set_index('book_id').loc[range(entire_data.shape[1])]\n",
        "\n",
        "# STEP 3: Load BERT model\n",
        "model = SentenceTransformer('all-MiniLM-L6-v2')\n",
        "\n",
        "# STEP 4: Encode book texts into embeddings\n",
        "bert_embeddings = model.encode(items_ordered['combined_text'].tolist(), show_progress_bar=True)\n",
        "\n",
        "# STEP 5: Compute cosine similarity\n",
        "bert_sim = cosine_similarity(bert_embeddings)"
      ]
    },
    {
      "cell_type": "markdown",
      "metadata": {
        "id": "4Kr58GNrCeJf"
      },
      "source": [
        "#### CF Item-based\n",
        "Mean Precision@10 = 0.0585 <br>\n",
        "Mean Recall@10    = 0.2823"
      ]
    },
    {
      "cell_type": "code",
      "execution_count": null,
      "metadata": {
        "colab": {
          "base_uri": "https://localhost:8080/"
        },
        "id": "jTtXXtiI80jn",
        "outputId": "cb6fc6e6-d8f8-4bfa-9cab-d757a3e84fdc"
      },
      "outputs": [
        {
          "name": "stdout",
          "output_type": "stream",
          "text": [
            "Item-Item Similarity Matrix:\n",
            "[[1.         0.40824829 0.33333333 ... 0.         0.         0.        ]\n",
            " [0.40824829 1.         0.40824829 ... 0.         0.         0.        ]\n",
            " [0.33333333 0.40824829 1.         ... 0.         0.         0.        ]\n",
            " ...\n",
            " [0.         0.         0.         ... 1.         0.         0.        ]\n",
            " [0.         0.         0.         ... 0.         1.         0.        ]\n",
            " [0.         0.         0.         ... 0.         0.         1.        ]]\n",
            "(15291, 15291)\n"
          ]
        }
      ],
      "source": [
        "# Compute the item-item similarity matrix\n",
        "item_similarity = cosine_similarity(entire_data.T)\n",
        "print(\"Item-Item Similarity Matrix:\")\n",
        "print(item_similarity)\n",
        "print(item_similarity.shape)"
      ]
    },
    {
      "cell_type": "markdown",
      "metadata": {
        "id": "RVudNK4UtkFV"
      },
      "source": [
        "#### Hybrid Model testing\n",
        "\n",
        "between:\n",
        "1.   item_similarity x  embedding_sim x  bert_sim\n",
        "2.   item_similarity x  embedding_sim x  tfidf_sim\n",
        "3.   item_similarity x  embedding_sim x  tfidf_sim x bert_sim\n",
        "\n",
        "<table border=\"1\" style=\"border-collapse: collapse; text-align: left;\">\n",
        "  <caption style=\"font-size: 18px; font-weight: bold; padding: 10px;\"> </caption>\n",
        "  <thead>\n",
        "    <tr>\n",
        "      <th>Blending Stage</th>\n",
        "      <th>Use When...</th>\n",
        "    </tr>\n",
        "  </thead>\n",
        "  <tbody>\n",
        "    <tr>\n",
        "      <td>Prediction-level</td>\n",
        "      <td>Models use different mechanics (CF, BERT, popularity)</td>\n",
        "    </tr>\n",
        "    <tr>\n",
        "      <td>Similarity-level</td>\n",
        "      <td>All models are similarity-based and aligned (e.g., TF-IDF + BERT)</td>\n",
        "    </tr>\n",
        "  </tbody>\n",
        "</table>\n",
        "\n",
        "\n",
        "--> Use similarity-level & perform gridsearch\n",
        "\n"
      ]
    },
    {
      "cell_type": "code",
      "execution_count": null,
      "metadata": {
        "id": "V3BKSb5MMWqV"
      },
      "outputs": [],
      "source": [
        "# # grid search for bert_sim\n",
        "# # Define feasible combinations of weights (a: bert_sim, b: item_similarity, c: embedding_sim)\n",
        "# feasible_combinations = [\n",
        "#     (0.1, 0.6, 0.3),\n",
        "#     (0.2, 0.6, 0.2),\n",
        "#     (0.25, 0.5, 0.25),\n",
        "#     (0.3, 0.6, 0.1),\n",
        "#     (0.2, 0.7, 0.1),\n",
        "#     (0.1, 0.7, 0.2),\n",
        "#     (0.15, 0.7, 0.15),\n",
        "#     (0.1, 0.8, 0.1),\n",
        "#     (0.05, 0.85, 0.1)\n",
        "# ]\n",
        "\n",
        "# results_file = \"hybrid_grid_results_progress.csv\"\n",
        "\n",
        "# # Load previous progress if it exists\n",
        "# if os.path.exists(results_file):\n",
        "#     results_df = pd.read_csv(results_file)\n",
        "#     done_combinations = set(tuple(row[:3]) for row in results_df.values)\n",
        "# else:\n",
        "#     results_df = pd.DataFrame(columns=['a', 'b', 'c', 'precision@10'])\n",
        "#     done_combinations = set()\n",
        "\n",
        "# # Run evaluation\n",
        "# for a, b, c in feasible_combinations:\n",
        "#     if (a, b, c) in done_combinations:\n",
        "#         print(f\"Skipping already evaluated combination: a={a}, b={b}, c={c}\")\n",
        "#         continue\n",
        "\n",
        "#     print(f\"Evaluating: a={a}, b={b}, c={c}\")\n",
        "\n",
        "#     # Build the hybrid similarity matrix\n",
        "#     hybrid_sim = a * bert_sim + b * item_similarity + c * embedding_sim\n",
        "\n",
        "#     # Predict using item-based CF\n",
        "#     prediction_matrix = item_based_predict(train_data_matrix, hybrid_sim)\n",
        "\n",
        "#     # Evaluate\n",
        "#     p_at_k, _ = precision_recall_at_k(prediction_matrix, test_data_matrix, k=10)\n",
        "\n",
        "#     # Store result\n",
        "#     new_row = pd.DataFrame([{'a': a, 'b': b, 'c': c, 'precision@10': p_at_k}])\n",
        "#     results_df = pd.concat([results_df, new_row], ignore_index=True)\n",
        "#     results_df.to_csv(results_file, index=False)\n",
        "\n",
        "#     print(f\"Saved result for a={a}, b={b}, c={c} to {results_file}\")\n",
        "\n",
        "# # Sort and show final results\n",
        "# results_df_bert = results_df.sort_values(by='precision@10', ascending=False)\n",
        "# results_df_bert.to_csv(\"hybrid_grid_results_final.csv\", index=False)\n",
        "# print(\"Final results saved to hybrid_grid_results_final.csv\")\n"
      ]
    },
    {
      "cell_type": "code",
      "execution_count": null,
      "metadata": {
        "id": "F74JALpNbUhC"
      },
      "outputs": [],
      "source": [
        "# # grid search for tfidf_sim\n",
        "# # Define feasible combinations of weights (a: tfidf_sim, b: item_similarity, c: embedding_sim)\n",
        "# feasible_combinations = [\n",
        "#     (0.1, 0.6, 0.3),\n",
        "#     (0.2, 0.6, 0.2),\n",
        "#     (0.25, 0.5, 0.25),\n",
        "#     (0.3, 0.6, 0.1),\n",
        "#     (0.2, 0.7, 0.1),\n",
        "#     (0.1, 0.7, 0.2),\n",
        "#     (0.15, 0.7, 0.15),\n",
        "#     (0.1, 0.8, 0.1),\n",
        "#     (0.05, 0.85, 0.1)\n",
        "# ]\n",
        "\n",
        "# results_file = \"hybrid_grid_results_progress.csv\"\n",
        "\n",
        "# # Load previous progress if it exists\n",
        "# if os.path.exists(results_file):\n",
        "#     results_df = pd.read_csv(results_file)\n",
        "#     done_combinations = set(tuple(row[:3]) for row in results_df.values)\n",
        "# else:\n",
        "#     results_df = pd.DataFrame(columns=['a', 'b', 'c', 'precision@10'])\n",
        "#     done_combinations = set()\n",
        "\n",
        "# # Run evaluation\n",
        "# for a, b, c in feasible_combinations:\n",
        "#     if (a, b, c) in done_combinations:\n",
        "#         print(f\"Skipping already evaluated combination: a={a}, b={b}, c={c}\")\n",
        "#         continue\n",
        "\n",
        "#     print(f\"Evaluating: a={a}, b={b}, c={c}\")\n",
        "\n",
        "#     # Build the hybrid similarity matrix\n",
        "#     hybrid_sim = a * tfidf_sim + b * item_similarity + c * embedding_sim\n",
        "\n",
        "#     # Predict using item-based CF\n",
        "#     prediction_matrix = item_based_predict(train_data_matrix, hybrid_sim)\n",
        "\n",
        "#     # Evaluate\n",
        "#     p_at_k, _ = precision_recall_at_k(prediction_matrix, test_data_matrix, k=10)\n",
        "\n",
        "#     # Store result\n",
        "#     new_row = pd.DataFrame([{'a': a, 'b': b, 'c': c, 'precision@10': p_at_k}])\n",
        "#     results_df = pd.concat([results_df, new_row], ignore_index=True)\n",
        "#     results_df.to_csv(results_file, index=False)\n",
        "\n",
        "#     print(f\"Saved result for a={a}, b={b}, c={c} to {results_file}\")\n",
        "\n",
        "# # Sort and show final results\n",
        "# results_df_tfidf = results_df.sort_values(by='precision@10', ascending=False)\n",
        "# results_df_tfidf.to_csv(\"hybrid_grid_results_final.csv\", index=False)\n",
        "# print(\"Final results saved to hybrid_grid_results_final.csv\")"
      ]
    },
    {
      "cell_type": "code",
      "execution_count": null,
      "metadata": {
        "id": "RGgwfR4fnwut",
        "outputId": "c19a98fb-3312-44e3-e0ae-4a2cebfc8454"
      },
      "outputs": [
        {
          "name": "stdout",
          "output_type": "stream",
          "text": [
            "Evaluating: a=0.2, b=0.6, c=0.1, d=0.1\n",
            "Saved result for a=0.2, b=0.6, c=0.1, d=0.1 to hybrid4_grid_results_progress.csv\n",
            "Evaluating: a=0.15, b=0.6, c=0.15, d=0.1\n",
            "Saved result for a=0.15, b=0.6, c=0.15, d=0.1 to hybrid4_grid_results_progress.csv\n",
            "Evaluating: a=0.25, b=0.5, c=0.15, d=0.1\n",
            "Saved result for a=0.25, b=0.5, c=0.15, d=0.1 to hybrid4_grid_results_progress.csv\n",
            "Evaluating: a=0.3, b=0.5, c=0.1, d=0.1\n",
            "Saved result for a=0.3, b=0.5, c=0.1, d=0.1 to hybrid4_grid_results_progress.csv\n",
            "Evaluating: a=0.2, b=0.5, c=0.2, d=0.1\n",
            "Saved result for a=0.2, b=0.5, c=0.2, d=0.1 to hybrid4_grid_results_progress.csv\n",
            "Evaluating: a=0.1, b=0.6, c=0.2, d=0.1\n",
            "Saved result for a=0.1, b=0.6, c=0.2, d=0.1 to hybrid4_grid_results_progress.csv\n",
            "Evaluating: a=0.15, b=0.55, c=0.2, d=0.1\n",
            "Saved result for a=0.15, b=0.55, c=0.2, d=0.1 to hybrid4_grid_results_progress.csv\n",
            "Evaluating: a=0.05, b=0.7, c=0.15, d=0.1\n",
            "Saved result for a=0.05, b=0.7, c=0.15, d=0.1 to hybrid4_grid_results_progress.csv\n",
            "Evaluating: a=0.1, b=0.5, c=0.3, d=0.1\n",
            "Saved result for a=0.1, b=0.5, c=0.3, d=0.1 to hybrid4_grid_results_progress.csv\n",
            "Final results saved to hybrid4_grid_results_final.csv\n"
          ]
        }
      ],
      "source": [
        "# grid search for all 4\n",
        "# Define feasible combinations of weights (a: tfidf_sim, b: item_similarity, c: embedding_sim)\n",
        "feasible_combinations = [\n",
        "   (0.2, 0.6, 0.1, 0.1),\n",
        "(0.15, 0.6, 0.15, 0.1),\n",
        "(0.25, 0.5, 0.15, 0.1),\n",
        "(0.3, 0.5, 0.1, 0.1),\n",
        "(0.2, 0.5, 0.2, 0.1),\n",
        "(0.1, 0.6, 0.2, 0.1),\n",
        "(0.15, 0.55, 0.2, 0.1),\n",
        "(0.05, 0.7, 0.15, 0.1),\n",
        "(0.1, 0.5, 0.3, 0.1)\n",
        "]\n",
        "\n",
        "results_file = \"hybrid4_grid_results_progress.csv\"\n",
        "\n",
        "# Load previous progress if it exists\n",
        "if os.path.exists(results_file):\n",
        "    results_df = pd.read_csv(results_file)\n",
        "    done_combinations = set(tuple(row[:3]) for row in results_df.values)\n",
        "else:\n",
        "    results_df = pd.DataFrame(columns=['a', 'b', 'c', 'd' 'precision@10'])\n",
        "    done_combinations = set()\n",
        "\n",
        "# Run evaluation\n",
        "for a, b, c, d in feasible_combinations:\n",
        "    if (a, b, c, d) in done_combinations:\n",
        "        print(f\"Skipping already evaluated combination: a={a}, b={b}, c={c}, d={d}\")\n",
        "        continue\n",
        "\n",
        "    print(f\"Evaluating: a={a}, b={b}, c={c}, d={d}\")\n",
        "\n",
        "    # Build the hybrid similarity matrix\n",
        "    hybrid_sim = a * tfidf_sim + b * item_similarity + c * embedding_sim +d* bert_sim\n",
        "\n",
        "    # Predict using item-based CF\n",
        "    prediction_matrix = item_based_predict(train_data_matrix, hybrid_sim)\n",
        "\n",
        "    # Evaluate\n",
        "    p_at_k, _ = precision_recall_at_k(prediction_matrix, test_data_matrix, k=10)\n",
        "\n",
        "    # Store result\n",
        "    new_row = pd.DataFrame([{'a': a, 'b': b, 'c': c, 'd':d, 'precision@10': p_at_k}])\n",
        "    results_df = pd.concat([results_df, new_row], ignore_index=True)\n",
        "    results_df.to_csv(results_file, index=False)\n",
        "\n",
        "    print(f\"Saved result for a={a}, b={b}, c={c}, d={d} to {results_file}\")\n",
        "\n",
        "# Sort and show final results\n",
        "results_df_tfidf = results_df.sort_values(by='precision@10', ascending=False)\n",
        "results_df_tfidf.to_csv(\"hybrid4_grid_results_final.csv\", index=False)\n",
        "print(\"Final results saved to hybrid4_grid_results_final.csv\")"
      ]
    },
    {
      "cell_type": "code",
      "execution_count": null,
      "metadata": {
        "id": "XiG-0gc2hlqU"
      },
      "outputs": [],
      "source": [
        "# #Upload gridsearch results\n",
        "# grid_bert=pd.read_csv(\"https://media.githubusercontent.com/media/ML-brooowss/ML/refs/heads/main/hybrid_grid_results_final_bert.csv\")\n",
        "# grid_tfidf=pd.read_csv(\"https://media.githubusercontent.com/media/ML-brooowss/ML/refs/heads/main/hybrid_grid_results_final_tfidf.csv\")\n",
        "# print(grid_bert)\n",
        "# print(grid_tfidf)"
      ]
    },
    {
      "cell_type": "markdown",
      "source": [
        "###Generate Prediction for Kaggle"
      ],
      "metadata": {
        "id": "exnbtI0B7X6I"
      }
    },
    {
      "cell_type": "code",
      "execution_count": null,
      "metadata": {
        "id": "-r2D_SlhjksV"
      },
      "outputs": [],
      "source": [
        "hybrid_sim = 0.05 * tfidf_sim + 0.7 * item_similarity + 0.1 * bert_sim + 0.15 * embedding_sim"
      ]
    },
    {
      "cell_type": "code",
      "execution_count": null,
      "metadata": {
        "colab": {
          "base_uri": "https://localhost:8080/"
        },
        "id": "HK9ZWPExhtep",
        "outputId": "3b9b1914-c963-4e99-c10b-ddd28ab6723b"
      },
      "outputs": [
        {
          "name": "stdout",
          "output_type": "stream",
          "text": [
            "Predicted Interaction Matrix:\n",
            "[[0.00464251 0.00497112 0.00415327 ... 0.00162787 0.00156628 0.00170633]\n",
            " [0.00070767 0.00068982 0.00071642 ... 0.00073418 0.00084029 0.00069719]\n",
            " [0.00344637 0.00310245 0.00304239 ... 0.00395846 0.00487504 0.00306396]\n",
            " ...\n",
            " [0.00017915 0.00016366 0.00016284 ... 0.00023819 0.00026802 0.0001785 ]\n",
            " [0.00012284 0.00011541 0.00011468 ... 0.00015821 0.00020059 0.00011566]\n",
            " [0.00018402 0.00018535 0.00018286 ... 0.00020429 0.00023225 0.00019753]]\n",
            "(7838, 15291)\n"
          ]
        }
      ],
      "source": [
        "# # Calculate the item-based predictions for positive interactions\n",
        "hybrid_prediction4 = item_based_predict(entire_data, hybrid_sim)\n",
        "print(\"Predicted Interaction Matrix:\")\n",
        "print(hybrid_prediction4)\n",
        "print(hybrid_prediction4.shape)"
      ]
    },
    {
      "cell_type": "code",
      "execution_count": null,
      "metadata": {
        "colab": {
          "base_uri": "https://localhost:8080/",
          "height": 458
        },
        "id": "xdt_1d5Ahvf4",
        "outputId": "4a9852f2-a4cb-415f-97f2-bd0ae82399ac"
      },
      "outputs": [
        {
          "data": {
            "text/html": [
              "<div>\n",
              "<style scoped>\n",
              "    .dataframe tbody tr th:only-of-type {\n",
              "        vertical-align: middle;\n",
              "    }\n",
              "\n",
              "    .dataframe tbody tr th {\n",
              "        vertical-align: top;\n",
              "    }\n",
              "\n",
              "    .dataframe thead th {\n",
              "        text-align: right;\n",
              "    }\n",
              "</style>\n",
              "<table border=\"1\" class=\"dataframe\">\n",
              "  <thead>\n",
              "    <tr style=\"text-align: right;\">\n",
              "      <th></th>\n",
              "      <th>user_id</th>\n",
              "      <th>recommendation</th>\n",
              "    </tr>\n",
              "  </thead>\n",
              "  <tbody>\n",
              "    <tr>\n",
              "      <th>0</th>\n",
              "      <td>0</td>\n",
              "      <td>11 14 20 1 18 24 15 22 12 0</td>\n",
              "    </tr>\n",
              "    <tr>\n",
              "      <th>1</th>\n",
              "      <td>1</td>\n",
              "      <td>31 35 33 30 36 29 37 32 39 34</td>\n",
              "    </tr>\n",
              "    <tr>\n",
              "      <th>2</th>\n",
              "      <td>2</td>\n",
              "      <td>80 94 76 92 54 93 77 78 86 81</td>\n",
              "    </tr>\n",
              "    <tr>\n",
              "      <th>3</th>\n",
              "      <td>3</td>\n",
              "      <td>132 157 123 172 168 151 166 161 140 130</td>\n",
              "    </tr>\n",
              "    <tr>\n",
              "      <th>4</th>\n",
              "      <td>4</td>\n",
              "      <td>192 194 200 204 203 199 202 191 196 205</td>\n",
              "    </tr>\n",
              "    <tr>\n",
              "      <th>...</th>\n",
              "      <td>...</td>\n",
              "      <td>...</td>\n",
              "    </tr>\n",
              "    <tr>\n",
              "      <th>7833</th>\n",
              "      <td>7833</td>\n",
              "      <td>7322 975 7760 7312 7307 7306 7308 7311 958 7323</td>\n",
              "    </tr>\n",
              "    <tr>\n",
              "      <th>7834</th>\n",
              "      <td>7834</td>\n",
              "      <td>15276 13891 7128 1367 13952 10651 7116 101 152...</td>\n",
              "    </tr>\n",
              "    <tr>\n",
              "      <th>7835</th>\n",
              "      <td>7835</td>\n",
              "      <td>3055 4820 6791 9719 7116 6317 10468 3057 4815 ...</td>\n",
              "    </tr>\n",
              "    <tr>\n",
              "      <th>7836</th>\n",
              "      <td>7836</td>\n",
              "      <td>14550 3471 15184 14619 14552 14081 14166 14557...</td>\n",
              "    </tr>\n",
              "    <tr>\n",
              "      <th>7837</th>\n",
              "      <td>7837</td>\n",
              "      <td>2191 2209 88 5642 2198 2513 804 2562 10958 9005</td>\n",
              "    </tr>\n",
              "  </tbody>\n",
              "</table>\n",
              "<p>7838 rows × 2 columns</p>\n",
              "</div>"
            ],
            "text/plain": [
              "      user_id                                     recommendation\n",
              "0           0                        11 14 20 1 18 24 15 22 12 0\n",
              "1           1                      31 35 33 30 36 29 37 32 39 34\n",
              "2           2                      80 94 76 92 54 93 77 78 86 81\n",
              "3           3            132 157 123 172 168 151 166 161 140 130\n",
              "4           4            192 194 200 204 203 199 202 191 196 205\n",
              "...       ...                                                ...\n",
              "7833     7833    7322 975 7760 7312 7307 7306 7308 7311 958 7323\n",
              "7834     7834  15276 13891 7128 1367 13952 10651 7116 101 152...\n",
              "7835     7835  3055 4820 6791 9719 7116 6317 10468 3057 4815 ...\n",
              "7836     7836  14550 3471 15184 14619 14552 14081 14166 14557...\n",
              "7837     7837    2191 2209 88 5642 2198 2513 804 2562 10958 9005\n",
              "\n",
              "[7838 rows x 2 columns]"
            ]
          },
          "metadata": {},
          "output_type": "display_data"
        }
      ],
      "source": [
        "# # Create df\n",
        "hybrid_df = create_recommendation_table(hybrid_prediction4, top_n=10, separator=\" \")\n",
        "\n",
        "# # Save and display\n",
        "hybrid_df.to_csv('hybrid_recommendations.csv', index=False)\n",
        "\n",
        "# print(\"\\nItem-based Recommendations:\")\n",
        "display(hybrid_df)"
      ]
    }
  ],
  "metadata": {
    "anaconda-cloud": {},
    "colab": {
      "collapsed_sections": [
        "s421o1vwIpQL"
      ],
      "provenance": [],
      "include_colab_link": true
    },
    "kernelspec": {
      "display_name": ".venv",
      "language": "python",
      "name": "python3"
    },
    "language_info": {
      "codemirror_mode": {
        "name": "ipython",
        "version": 3
      },
      "file_extension": ".py",
      "mimetype": "text/x-python",
      "name": "python",
      "nbconvert_exporter": "python",
      "pygments_lexer": "ipython3",
      "version": "3.9.6"
    }
  },
  "nbformat": 4,
  "nbformat_minor": 0
}